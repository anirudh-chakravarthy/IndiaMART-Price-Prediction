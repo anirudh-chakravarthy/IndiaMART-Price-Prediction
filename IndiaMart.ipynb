{
 "cells": [
  {
   "cell_type": "code",
   "execution_count": 1,
   "metadata": {},
   "outputs": [],
   "source": [
    "import pandas as pd\n",
    "import numpy as np\n",
    "import matplotlib.pyplot as plt"
   ]
  },
  {
   "cell_type": "code",
   "execution_count": 2,
   "metadata": {},
   "outputs": [
    {
     "data": {
      "text/plain": [
       "odict_keys(['Leather Safety Gloves', 'Ladies Kurta', 'Impact Drill'])"
      ]
     },
     "execution_count": 2,
     "metadata": {},
     "output_type": "execute_result"
    }
   ],
   "source": [
    "data = pd.read_excel('./Phase 1 Dataset Hackathon.xlsx', sheet_name=None)\n",
    "data.keys()"
   ]
  },
  {
   "cell_type": "code",
   "execution_count": 3,
   "metadata": {},
   "outputs": [
    {
     "name": "stdout",
     "output_type": "stream",
     "text": [
      "['Pair' 'Piece' 'pack' 'Unit' 'Pack' 'Unit/Onwards' 'Pair(s)' 'unit' 'Set'\n",
      " 'Pieces']\n",
      "['Piece' 'dollar' 'Packet' 'piece' 'Meter' 'Piece(s)' 'Set' 'Per piece'\n",
      " 'Unit' 1 '1pc' 'Box' '170 per peice' 'Unstitch' 'Barrel' 'Carton' 'peice'\n",
      " 'Pieces' 'Sets' 'Unit(s)' 'one' 'Bag' 'Selfie Kurtis' 'Pack' 'Pair'\n",
      " 'Pound' 'Peice' '1piece' 'No' 'Kilogram' 'Number' \"40' Container\" 'pack'\n",
      " '100 pic' 'Year' \"20' Container\" 'Pcs' 'Piece(s) Onwards' 'One' 'kurtI'\n",
      " 'Ounce' 'onwards' '10-10000' 'per piese' 'Day' 'Set(s)' '12 units' '1pis'\n",
      " 'Onwards' 'One peace' 'Set(S)' 'Pair piece' 'Ounce(s)' 'Packet(s)'\n",
      " 'Single' 'one pcs' 'Pc' '4 pcs' '4 units' 5 'set' 'kurti' 'pcs' 'pices'\n",
      " 'Pics' 'single piece' 'pi' 'per piece' 'Kurti' 'one unit' '1 piece'\n",
      " '1 pice' 'Suit' 'pair piece' 10 'pieces' '1pcs' '1 pc' '3 set' 'Xl size'\n",
      " '1000 per unit' '1pcd' 'Psc' 'Gram' 'Rs' 'in' '1 pcs' 'Feet' 'onepices']\n",
      "['Piece' 'Piece(s)' 'pack' 'unit' 'Number' 'Unit' 'Pack' '1nos' 'Unit(s)'\n",
      " 'kit' 'Set' 'Pc_Onwards' 'ONWARDS' 'Kit']\n"
     ]
    }
   ],
   "source": [
    "# list all unique measurement units\n",
    "for key in data:\n",
    "    print(data[key]['Unit'].unique())"
   ]
  },
  {
   "cell_type": "code",
   "execution_count": 9,
   "metadata": {},
   "outputs": [
    {
     "name": "stdout",
     "output_type": "stream",
     "text": [
      "[['Pair', 'Pair(s)', 'Pair piece', 'pair piece'], ['Piece', 'Pieces', 'piece', 'Piece(s)', 'Per piece', 1, '1pc', '170 per peice', 'peice', 'one', 'Peice', '1piece', 'No', 'Number', 'Pcs', 'Piece(s) Onwards', 'One', 'kurtI', 'per piese', '1pis', 'One peace', 'Single', 'one pcs', 'Pc', 'pcs', 'pices', 'Pics', 'single piece', 'pi', 'per piece', 'Kurti', '1 piece', '1 pice', 'Suit', 'pieces', '1pcs', '1 pc', '1pcd', 'Psc', '1 pcs', 'onepices', '1nos', 'Pc_Onwards', 'onwards', 'Onwards', 'ONWARDS', 'Selfie Kurtis', 'Xl size', '100 pic', '10-10000', '4 pcs', 5, 10], ['pack', 'Pack', 'Packet', 'Bag', 'Packet(s)'], ['Unit', 'Unit/Onwards', 'unit', 'Unit(s)', 'one unit', '1000 per unit', '12 units', '4 units'], ['Set', 'Set(S)', 'set', 'Set(s)', 'Sets', '3 set'], ['kit', 'Kit'], [\"40' Container\", \"20' Container\"], ['Kilogram', 'Gram', 'Pound', 'Ounce(s)', 'Ounce'], ['Meter', 'Unstitch', 'Feet', 'Year'], ['Carton', 'Barrel'], ['dollar', 'Rs', 'in']]\n"
     ]
    }
   ],
   "source": [
    "# ---------------------------------------------------------\n",
    "# IDEA- add numeric entries into relevant existing sets and check whether first entry is numeric.\n",
    "# This will help scale the price by that number for max/min calculation.\n",
    "# FLAW- '170 per peice', '1000 per unit'\n",
    "#\n",
    "# ASSUMPTION- Price listed is per unit, if product is sold in multiple units.\n",
    "# So now, multiple unit items can be listed in existing lists without needed to affect max,min\n",
    "# ---------------------------------------------------------\n",
    "\n",
    "unit_list.add(('pair', ['Pair', 'Pair(s)', 'Pair piece', 'pair piece']))\n",
    "# ASSUMPTION: Kurti = 1 piece, Onwards = Piece\n",
    "unit_list.add(('pc', ['Piece', 'Pieces', 'piece', 'Piece(s)', 'Per piece', '1', '1pc', 'peice',\n",
    "         'one', 'Peice', '1piece', 'No', 'Number', 'Pcs', 'Piece(s) Onwards',\n",
    "         'One', 'kurtI', 'per piese', '1pis', 'One peace', 'Single', 'one pcs', 'Pc', \n",
    "         'pcs', 'pices', 'Pics', 'single piece', 'pi', 'per piece', 'Kurti', '1 piece',\n",
    "         '1 pice', 'Suit', 'pieces', '1pcs', '1 pc', '1pcd', 'Psc', '1 pcs', 'onepices', \n",
    "         '1nos', 'Pc_Onwards', 'onwards', 'Onwards', 'ONWARDS', 'Selfie Kurtis', 'Xl size']))\n",
    "unit_list.add(('pack', ['pack', 'Pack', 'Packet', 'Bag', 'Packet(s)']))\n",
    "unit_list.add(('unit', ['Unit', 'Unit/Onwards', 'unit', 'Unit(s)', 'one unit']))\n",
    "unit_list.add(('set', ['Set', 'Set(S)', 'set', 'Set(s)', 'Sets']))\n",
    "unit_list.add(('kit', ['kit', 'Kit']))\n",
    "unit_list.add(('unk', ['40\\' Container', '20\\' Container']))\n",
    "unit_list.add(('kg', ['Kilogram']))\n",
    "unit_list.add(('g', ['Gram']))\n",
    "unit_list.add(('lb', ['Pound']))\n",
    "unit_list.add(('oz', ['Ounce(s)', 'Ounce']))\n",
    "unit_list.add(('m', ['Meter']))\n",
    "unit_list.add(('inch', ['in']))\n",
    "unit_list.add(('yard', ['Year']))\n",
    "unit_list.add(('ft', ['Feet']))\n",
    "unit_list.add(('unk', ['Unstitch']))\n",
    "unit_list.add(('Carton', ['Carton']))\n",
    "unit_list.add(('Barrel', ['Barrel']))\n",
    "unit_list.add(('$', ['dollar']))\n",
    "unit_list.add(('Rs.', ['Rs']))\n",
    "print(unit_list)\n",
    "\n",
    "miscl = ['170 per peice', '4 pcs', '5', '10', '100 pic', '10-10000', '1000 per unit', '3 set', '12 units', '4 units']"
   ]
  },
  {
   "cell_type": "code",
   "execution_count": 5,
   "metadata": {},
   "outputs": [],
   "source": [
    "split_data = {}\n",
    "\n",
    "for key in data:\n",
    "    split_data[key] = []\n",
    "    for unit in unit_list:\n",
    "        split_data[key].append(data[key][data[key].Unit.isin(unit)])"
   ]
  },
  {
   "cell_type": "code",
   "execution_count": 6,
   "metadata": {},
   "outputs": [],
   "source": [
    "def price_boxplot(df):\n",
    "    df.boxplot('Price')\n",
    "\n",
    "def plot_z_score(df):\n",
    "    test = (df.Price - df.Price.mean()) / df.Price.std()\n",
    "    (np.abs(test)).plot.line()\n",
    "\n",
    "def plot_modified_z_score(df):\n",
    "    MAD = np.median(np.abs(df.Price - df.Price.median())) # median absolute deviation\n",
    "    test = 0.6745*(df.Price - df.Price.median()) / df.Price.std()\n",
    "    (np.abs(test)).plot.line()\n",
    "    \n",
    "def remove_outliers(df):     \n",
    "    # Remove outliers based on modified Z-scores\n",
    "    if df.empty:\n",
    "        return df\n",
    "    MAD = np.median(np.abs(df.Price - df.Price.median()))\n",
    "    test = 0.6745*(df.Price - df.Price.median()) / df.Price.std()\n",
    "    return df[(test <= 1.52) & (test >= -1.52)] # experimentally chosen value"
   ]
  },
  {
   "cell_type": "code",
   "execution_count": null,
   "metadata": {},
   "outputs": [],
   "source": [
    "price_boxplot(split_data['Impact Drill'][1])"
   ]
  },
  {
   "cell_type": "code",
   "execution_count": null,
   "metadata": {},
   "outputs": [],
   "source": [
    "plot_z_score(split_data['Impact Drill'][1])"
   ]
  },
  {
   "cell_type": "code",
   "execution_count": 7,
   "metadata": {},
   "outputs": [],
   "source": [
    "for key in split_data:\n",
    "    for idx in range(len(split_data[key])):\n",
    "        split_data[key][idx] = remove_outliers(split_data[key][idx])"
   ]
  },
  {
   "cell_type": "code",
   "execution_count": 18,
   "metadata": {},
   "outputs": [
    {
     "data": {
      "image/png": "[encoded data removed]",
      "text/plain": [
       "<Figure size 432x288 with 1 Axes>"
      ]
     },
     "metadata": {
      "needs_background": "light"
     },
     "output_type": "display_data"
    }
   ],
   "source": [
    "price_boxplot(split_data['Impact Drill'][1])"
   ]
  },
  {
   "cell_type": "code",
   "execution_count": 19,
   "metadata": {},
   "outputs": [
    {
     "data": {
      "image/png": "[encoded data removed]",
      "text/plain": [
       "<Figure size 432x288 with 1 Axes>"
      ]
     },
     "metadata": {
      "needs_background": "light"
     },
     "output_type": "display_data"
    }
   ],
   "source": [
    "plot_z_score(split_data['Impact Drill'][1])"
   ]
  },
  {
   "cell_type": "code",
   "execution_count": null,
   "metadata": {},
   "outputs": [],
   "source": [
    "# df = split_df[3]\n",
    "# MAD = np.median(np.abs(df.Price - df.Price.median()))\n",
    "# test = 0.6745*(df.Price - df.Price.median())/df.Price.std()\n",
    "# df['Z-score'] = test\n",
    "# df\n",
    "# # split_df[3]# = df[(test <= 1.52) & (test >= -1.52)]"
   ]
  },
  {
   "cell_type": "code",
   "execution_count": null,
   "metadata": {},
   "outputs": [],
   "source": [
    "# Univariate Method\n",
    "# Choose a cleaning parameter (cp)\n",
    "# Reject all the values which lie outside the range (median - cp, median + cp)"
   ]
  },
  {
   "cell_type": "code",
   "execution_count": null,
   "metadata": {},
   "outputs": [],
   "source": [
    "# Multivariate Method\n",
    "# Train a model and calculate error for all values\n",
    "# Choose a acceptable error (ae)\n",
    "# Reject all the values having error\n",
    "# in the range (0 - ae, 0 + ae)"
   ]
  },
  {
   "cell_type": "code",
   "execution_count": null,
   "metadata": {},
   "outputs": [],
   "source": [
    "# Problem: Univariate (single feature: price) point (single data pts lying far from dist.) outliers"
   ]
  }
 ],
 "metadata": {
  "kernelspec": {
   "display_name": "Python 3",
   "language": "python",
   "name": "python3"
  },
  "language_info": {
   "codemirror_mode": {
    "name": "ipython",
    "version": 3
   },
   "file_extension": ".py",
   "mimetype": "text/x-python",
   "name": "python",
   "nbconvert_exporter": "python",
   "pygments_lexer": "ipython3",
   "version": "3.5.2"
  }
 },
 "nbformat": 4,
 "nbformat_minor": 2
}
