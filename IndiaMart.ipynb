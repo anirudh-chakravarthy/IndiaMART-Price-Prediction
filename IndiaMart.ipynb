{
 "cells": [
  {
   "cell_type": "code",
   "execution_count": 8,
   "metadata": {},
   "outputs": [],
   "source": [
    "import pandas as pd\n",
    "import numpy as np\n",
    "import matplotlib.pyplot as plt"
   ]
  },
  {
   "cell_type": "code",
   "execution_count": 12,
   "metadata": {},
   "outputs": [
    {
     "data": {
      "text/plain": [
       "['Leather Safety Gloves', 'Ladies Kurta', 'Impact Drill']"
      ]
     },
     "execution_count": 12,
     "metadata": {},
     "output_type": "execute_result"
    }
   ],
   "source": [
    "# Read the excel file\n",
    "xls = pd.ExcelFile('./Phase 1 Dataset Hackathon.xlsx')\n",
    "xls.sheet_names"
   ]
  },
  {
   "cell_type": "code",
   "execution_count": 15,
   "metadata": {},
   "outputs": [],
   "source": [
    "# list to store all dataframes\n",
    "itemsList = []\n",
    "\n",
    "for sheet_name in xls.sheet_names:\n",
    "    df = pd.read_excel(xls, sheet_name)\n",
    "    itemsList.append(df)\n",
    "\n",
    "# print(itemsList[])"
   ]
  },
  {
   "cell_type": "code",
   "execution_count": 17,
   "metadata": {},
   "outputs": [
    {
     "name": "stdout",
     "output_type": "stream",
     "text": [
      "['Pair' 'Piece' 'pack' 'Unit' 'Pack' 'Unit/Onwards' 'Pair(s)' 'unit' 'Set'\n",
      " 'Pieces']\n",
      "['Piece' 'dollar' 'Packet' 'piece' 'Meter' 'Piece(s)' 'Set' 'Per piece'\n",
      " 'Unit' 1 '1pc' 'Box' '170 per peice' 'Unstitch' 'Barrel' 'Carton' 'peice'\n",
      " 'Pieces' 'Sets' 'Unit(s)' 'one' 'Bag' 'Selfie Kurtis' 'Pack' 'Pair'\n",
      " 'Pound' 'Peice' '1piece' 'No' 'Kilogram' 'Number' \"40' Container\" 'pack'\n",
      " '100 pic' 'Year' \"20' Container\" 'Pcs' 'Piece(s) Onwards' 'One' 'kurtI'\n",
      " 'Ounce' 'onwards' '10-10000' 'per piese' 'Day' 'Set(s)' '12 units' '1pis'\n",
      " 'Onwards' 'One peace' 'Set(S)' 'Pair piece' 'Ounce(s)' 'Packet(s)'\n",
      " 'Single' 'one pcs' 'Pc' '4 pcs' '4 units' 5 'set' 'kurti' 'pcs' 'pices'\n",
      " 'Pics' 'single piece' 'pi' 'per piece' 'Kurti' 'one unit' '1 piece'\n",
      " '1 pice' 'Suit' 'pair piece' 10 'pieces' '1pcs' '1 pc' '3 set' 'Xl size'\n",
      " '1000 per unit' '1pcd' 'Psc' 'Gram' 'Rs' 'in' '1 pcs' 'Feet' 'onepices']\n",
      "['Piece' 'Piece(s)' 'pack' 'unit' 'Number' 'Unit' 'Pack' '1nos' 'Unit(s)'\n",
      " 'kit' 'Set' 'Pc_Onwards' 'ONWARDS' 'Kit']\n"
     ]
    }
   ],
   "source": [
    "# list all unique measurement units\n",
    "for item in itemsList:\n",
    "    print(item['Unit'].unique())"
   ]
  },
  {
   "cell_type": "code",
   "execution_count": null,
   "metadata": {},
   "outputs": [],
   "source": [
    "# what to do about: 100 pic, 10-10000, O/onwards, Pair piece, 4pcs, 5, 10, in, \n",
    "#      12 units, 4 pcs/units, Unstitch?\n",
    "\n",
    "pair = ['Pair', 'Pair(s)', 'Pair piece', 'pair piece']\n",
    "piece = ['Piece', 'Pieces', 'piece', 'Piece(s)', 'Per piece', 1, '1pc', '170 per peice', \n",
    "         'peice', 'one', 'Peice', '1piece', 'No', 'Number', 'Pcs', 'Piece(s) Onwards',\n",
    "         'One', 'kurtI', 'per piese', '1pis', 'One peace', 'Single', 'one pcs', 'Pc', \n",
    "         'pcs', 'pices', 'Pics', 'single piece', 'pi', 'per piece', 'Kurti', '1 piece',\n",
    "         '1 pice', 'Suit', 'pieces', '1pcs', '1 pc', '1pcd', 'Psc', '1 pcs', 'onepices', \n",
    "         '1nos', 'Pc_Onwards', 'onwards', 'Onwards', 'ONWARDS', 'Selfie Kurtis']\n",
    "pack = ['pack', 'Pack', 'Packet', 'Bag', 'Packet(s)']\n",
    "unit = ['Unit', 'Unit/Onwards', 'unit', 'Unit(s)', 'one unit', '1000 per unit']\n",
    "set_ = ['Set', 'Set(S)', 'set']\n",
    "kit = ['kit', 'Kit']\n",
    "container = ['40\\' Container', '20\\' Container']\n",
    "weight = ['Pound', 'Kilogram', 'Gram']\n",
    "length = ['Meter', 'Feet']"
   ]
  },
  {
   "cell_type": "code",
   "execution_count": null,
   "metadata": {},
   "outputs": [],
   "source": [
    "# some useful functions\n",
    "\n",
    "# check normality of price distribution\n",
    "def check_normal(df):\n",
    "    df[0].boxplot('Price')\n",
    "    return\n",
    "\n",
    "# remove outlier\n",
    "def outlier_removal(df): \n",
    "    # Plot of Z-scores\n",
    "    test = (df[0].Price - df[0].Price.mean()) / df[0].Price.std()\n",
    "    (np.abs(test)).plot.line()\n",
    "    \n",
    "    # Plot of modified Z-scores\n",
    "    MAD = np.median(np.abs(df[0].Price - df[0].Price.median())) # median absolute deviation\n",
    "    test = 0.6745*(df[0].Price - df[0].Price.median()) / df[0].Price.std()\n",
    "    (np.abs(test)).plot.line()\n",
    "    \n",
    "    # Remove outliers based on modified Z-scores\n",
    "    for idx, data in enumerate(df):\n",
    "        MAD = np.median(np.abs(data.Price - data.Price.median()))\n",
    "        test = 0.6745*(data.Price - data.Price.median()) / data.Price.std()\n",
    "    #     if idx == 3:\n",
    "    #         print(split_df[idx].tail)\n",
    "        df[idx] = df[(test <= 1.52) & (test >= -1.52)] # experimentally chosen value\n",
    "    return df"
   ]
  },
  {
   "cell_type": "code",
   "execution_count": null,
   "metadata": {},
   "outputs": [],
   "source": [
    "split_df = []\n",
    "\n",
    "for item in itemsList:\n",
    "    split_df.append(item[item.Unit.isin(pair)])\n",
    "    split_df.append(item[item.Unit.isin(piece)])\n",
    "    split_df.append(item[item.Unit.isin(pack)])\n",
    "    split_df.append(item[item.Unit.isin(unit)])\n",
    "    split_df.append(item[item.Unit.isin(set_)])\n",
    "    split_df.append(item[item.Unit.isin(kit)])\n",
    "    split_df.append(item[item.Unit.isin(container)])\n",
    "    split_df.append(item[item.Unit.isin(weight)])\n",
    "    split_df.append(item[item.Unit.isin(length)])\n",
    "# split_df[3].head()"
   ]
  },
  {
   "cell_type": "code",
   "execution_count": null,
   "metadata": {},
   "outputs": [],
   "source": [
    "# -------------------------------\n",
    "# NOTE: NOT SURE HOW TO DO THIS!!\n",
    "# -------------------------------\n",
    "for idx in range(len(split_df)):\n",
    "    split_df[idx] = split_df[idx].assign(Index = np.asarray(list(range(0, len(split_df[idx])))))"
   ]
  },
  {
   "cell_type": "code",
   "execution_count": null,
   "metadata": {},
   "outputs": [],
   "source": [
    "for item in itemsList:\n",
    "    check_normal(item)\n",
    "    item = outlier_removal(item)"
   ]
  },
  {
   "cell_type": "code",
   "execution_count": null,
   "metadata": {},
   "outputs": [],
   "source": [
    "# df = split_df[3]\n",
    "# MAD = np.median(np.abs(df.Price - df.Price.median()))\n",
    "# test = 0.6745*(df.Price - df.Price.median())/df.Price.std()\n",
    "# df['Z-score'] = test\n",
    "# df\n",
    "# # split_df[3]# = df[(test <= 1.52) & (test >= -1.52)]"
   ]
  },
  {
   "cell_type": "code",
   "execution_count": null,
   "metadata": {},
   "outputs": [],
   "source": [
    "# Univariate Method\n",
    "# Choose a cleaning parameter (cp)\n",
    "# Reject all the values which lie outside the range (median - cp, median + cp)"
   ]
  },
  {
   "cell_type": "code",
   "execution_count": null,
   "metadata": {},
   "outputs": [],
   "source": [
    "# Multivariate Method\n",
    "# Train a model and calculate error for all values\n",
    "# Choose a acceptable error (ae)\n",
    "# Reject all the values having error\n",
    "# in the range (0 - ae, 0 + ae)"
   ]
  },
  {
   "cell_type": "code",
   "execution_count": null,
   "metadata": {},
   "outputs": [],
   "source": [
    "# Problem: Univariate (single feature: price) point (single data pts lying far from dist.) outliers"
   ]
  }
 ],
 "metadata": {
  "kernelspec": {
   "display_name": "Python 3",
   "language": "python",
   "name": "python3"
  },
  "language_info": {
   "codemirror_mode": {
    "name": "ipython",
    "version": 3
   },
   "file_extension": ".py",
   "mimetype": "text/x-python",
   "name": "python",
   "nbconvert_exporter": "python",
   "pygments_lexer": "ipython3",
   "version": "3.7.3"
  }
 },
 "nbformat": 4,
 "nbformat_minor": 2
}
